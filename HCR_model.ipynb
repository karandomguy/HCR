{
  "nbformat": 4,
  "nbformat_minor": 0,
  "metadata": {
    "colab": {
      "provenance": [],
      "include_colab_link": true
    },
    "kernelspec": {
      "name": "python3",
      "display_name": "Python 3"
    },
    "language_info": {
      "name": "python"
    },
    "accelerator": "GPU",
    "gpuClass": "standard"
  },
  "cells": [
    {
      "cell_type": "markdown",
      "metadata": {
        "id": "view-in-github",
        "colab_type": "text"
      },
      "source": [
        "<a href=\"https://colab.research.google.com/github/sanjaybhat2004/HCR/blob/main/HCR_model.ipynb\" target=\"_parent\"><img src=\"https://colab.research.google.com/assets/colab-badge.svg\" alt=\"Open In Colab\"/></a>"
      ]
    },
    {
      "cell_type": "code",
      "execution_count": null,
      "metadata": {
        "id": "Vom_ykn8RHs0"
      },
      "outputs": [],
      "source": [
        "#installing the Kaggle API \n",
        "! pip install -q kaggle \n"
      ]
    },
    {
      "cell_type": "code",
      "source": [
        "# enable file uploading functionality and upload the kaggle api token\n",
        "from google.colab import files\n",
        "\n",
        "files.upload()  "
      ],
      "metadata": {
        "colab": {
          "base_uri": "https://localhost:8080/",
          "height": 90
        },
        "id": "ZPSwpMgVEO8w",
        "outputId": "f51165e2-190e-4b3a-9cbf-0562ee7ca513"
      },
      "execution_count": null,
      "outputs": [
        {
          "output_type": "display_data",
          "data": {
            "text/plain": [
              "<IPython.core.display.HTML object>"
            ],
            "text/html": [
              "\n",
              "     <input type=\"file\" id=\"files-ef92db55-f565-4fe2-967a-02318e3c953a\" name=\"files[]\" multiple disabled\n",
              "        style=\"border:none\" />\n",
              "     <output id=\"result-ef92db55-f565-4fe2-967a-02318e3c953a\">\n",
              "      Upload widget is only available when the cell has been executed in the\n",
              "      current browser session. Please rerun this cell to enable.\n",
              "      </output>\n",
              "      <script>// Copyright 2017 Google LLC\n",
              "//\n",
              "// Licensed under the Apache License, Version 2.0 (the \"License\");\n",
              "// you may not use this file except in compliance with the License.\n",
              "// You may obtain a copy of the License at\n",
              "//\n",
              "//      http://www.apache.org/licenses/LICENSE-2.0\n",
              "//\n",
              "// Unless required by applicable law or agreed to in writing, software\n",
              "// distributed under the License is distributed on an \"AS IS\" BASIS,\n",
              "// WITHOUT WARRANTIES OR CONDITIONS OF ANY KIND, either express or implied.\n",
              "// See the License for the specific language governing permissions and\n",
              "// limitations under the License.\n",
              "\n",
              "/**\n",
              " * @fileoverview Helpers for google.colab Python module.\n",
              " */\n",
              "(function(scope) {\n",
              "function span(text, styleAttributes = {}) {\n",
              "  const element = document.createElement('span');\n",
              "  element.textContent = text;\n",
              "  for (const key of Object.keys(styleAttributes)) {\n",
              "    element.style[key] = styleAttributes[key];\n",
              "  }\n",
              "  return element;\n",
              "}\n",
              "\n",
              "// Max number of bytes which will be uploaded at a time.\n",
              "const MAX_PAYLOAD_SIZE = 100 * 1024;\n",
              "\n",
              "function _uploadFiles(inputId, outputId) {\n",
              "  const steps = uploadFilesStep(inputId, outputId);\n",
              "  const outputElement = document.getElementById(outputId);\n",
              "  // Cache steps on the outputElement to make it available for the next call\n",
              "  // to uploadFilesContinue from Python.\n",
              "  outputElement.steps = steps;\n",
              "\n",
              "  return _uploadFilesContinue(outputId);\n",
              "}\n",
              "\n",
              "// This is roughly an async generator (not supported in the browser yet),\n",
              "// where there are multiple asynchronous steps and the Python side is going\n",
              "// to poll for completion of each step.\n",
              "// This uses a Promise to block the python side on completion of each step,\n",
              "// then passes the result of the previous step as the input to the next step.\n",
              "function _uploadFilesContinue(outputId) {\n",
              "  const outputElement = document.getElementById(outputId);\n",
              "  const steps = outputElement.steps;\n",
              "\n",
              "  const next = steps.next(outputElement.lastPromiseValue);\n",
              "  return Promise.resolve(next.value.promise).then((value) => {\n",
              "    // Cache the last promise value to make it available to the next\n",
              "    // step of the generator.\n",
              "    outputElement.lastPromiseValue = value;\n",
              "    return next.value.response;\n",
              "  });\n",
              "}\n",
              "\n",
              "/**\n",
              " * Generator function which is called between each async step of the upload\n",
              " * process.\n",
              " * @param {string} inputId Element ID of the input file picker element.\n",
              " * @param {string} outputId Element ID of the output display.\n",
              " * @return {!Iterable<!Object>} Iterable of next steps.\n",
              " */\n",
              "function* uploadFilesStep(inputId, outputId) {\n",
              "  const inputElement = document.getElementById(inputId);\n",
              "  inputElement.disabled = false;\n",
              "\n",
              "  const outputElement = document.getElementById(outputId);\n",
              "  outputElement.innerHTML = '';\n",
              "\n",
              "  const pickedPromise = new Promise((resolve) => {\n",
              "    inputElement.addEventListener('change', (e) => {\n",
              "      resolve(e.target.files);\n",
              "    });\n",
              "  });\n",
              "\n",
              "  const cancel = document.createElement('button');\n",
              "  inputElement.parentElement.appendChild(cancel);\n",
              "  cancel.textContent = 'Cancel upload';\n",
              "  const cancelPromise = new Promise((resolve) => {\n",
              "    cancel.onclick = () => {\n",
              "      resolve(null);\n",
              "    };\n",
              "  });\n",
              "\n",
              "  // Wait for the user to pick the files.\n",
              "  const files = yield {\n",
              "    promise: Promise.race([pickedPromise, cancelPromise]),\n",
              "    response: {\n",
              "      action: 'starting',\n",
              "    }\n",
              "  };\n",
              "\n",
              "  cancel.remove();\n",
              "\n",
              "  // Disable the input element since further picks are not allowed.\n",
              "  inputElement.disabled = true;\n",
              "\n",
              "  if (!files) {\n",
              "    return {\n",
              "      response: {\n",
              "        action: 'complete',\n",
              "      }\n",
              "    };\n",
              "  }\n",
              "\n",
              "  for (const file of files) {\n",
              "    const li = document.createElement('li');\n",
              "    li.append(span(file.name, {fontWeight: 'bold'}));\n",
              "    li.append(span(\n",
              "        `(${file.type || 'n/a'}) - ${file.size} bytes, ` +\n",
              "        `last modified: ${\n",
              "            file.lastModifiedDate ? file.lastModifiedDate.toLocaleDateString() :\n",
              "                                    'n/a'} - `));\n",
              "    const percent = span('0% done');\n",
              "    li.appendChild(percent);\n",
              "\n",
              "    outputElement.appendChild(li);\n",
              "\n",
              "    const fileDataPromise = new Promise((resolve) => {\n",
              "      const reader = new FileReader();\n",
              "      reader.onload = (e) => {\n",
              "        resolve(e.target.result);\n",
              "      };\n",
              "      reader.readAsArrayBuffer(file);\n",
              "    });\n",
              "    // Wait for the data to be ready.\n",
              "    let fileData = yield {\n",
              "      promise: fileDataPromise,\n",
              "      response: {\n",
              "        action: 'continue',\n",
              "      }\n",
              "    };\n",
              "\n",
              "    // Use a chunked sending to avoid message size limits. See b/62115660.\n",
              "    let position = 0;\n",
              "    do {\n",
              "      const length = Math.min(fileData.byteLength - position, MAX_PAYLOAD_SIZE);\n",
              "      const chunk = new Uint8Array(fileData, position, length);\n",
              "      position += length;\n",
              "\n",
              "      const base64 = btoa(String.fromCharCode.apply(null, chunk));\n",
              "      yield {\n",
              "        response: {\n",
              "          action: 'append',\n",
              "          file: file.name,\n",
              "          data: base64,\n",
              "        },\n",
              "      };\n",
              "\n",
              "      let percentDone = fileData.byteLength === 0 ?\n",
              "          100 :\n",
              "          Math.round((position / fileData.byteLength) * 100);\n",
              "      percent.textContent = `${percentDone}% done`;\n",
              "\n",
              "    } while (position < fileData.byteLength);\n",
              "  }\n",
              "\n",
              "  // All done.\n",
              "  yield {\n",
              "    response: {\n",
              "      action: 'complete',\n",
              "    }\n",
              "  };\n",
              "}\n",
              "\n",
              "scope.google = scope.google || {};\n",
              "scope.google.colab = scope.google.colab || {};\n",
              "scope.google.colab._files = {\n",
              "  _uploadFiles,\n",
              "  _uploadFilesContinue,\n",
              "};\n",
              "})(self);\n",
              "</script> "
            ]
          },
          "metadata": {}
        },
        {
          "output_type": "stream",
          "name": "stdout",
          "text": [
            "Saving kaggle.json to kaggle.json\n"
          ]
        },
        {
          "output_type": "execute_result",
          "data": {
            "text/plain": [
              "{'kaggle.json': b'{\"username\":\"monopoly21\",\"key\":\"99a481595954d90ce3d63c7b5a6eef6c\"}'}"
            ]
          },
          "metadata": {},
          "execution_count": 3
        }
      ]
    },
    {
      "cell_type": "code",
      "source": [
        "! mkdir ~/.kaggle #creates a new directory named .kaggle in the user's home directory\n",
        "!cp kaggle.json ~/.kaggle/ #copies  kaggle.json to the newly created .kaggle directory"
      ],
      "metadata": {
        "id": "wGY87Ft4yUzM"
      },
      "execution_count": null,
      "outputs": []
    },
    {
      "cell_type": "code",
      "source": [
        "! chmod 600 ~/.kaggle/kaggle.json #sets the file permissions for the kaggle.json file to read and write only for the owner of the file"
      ],
      "metadata": {
        "id": "J99d5lHOEnxh"
      },
      "execution_count": null,
      "outputs": []
    },
    {
      "cell_type": "code",
      "source": [
        "# downloading the dataset\n",
        "! kaggle datasets download -d sankalpsrivastava26/capital-alphabets-28x28"
      ],
      "metadata": {
        "colab": {
          "base_uri": "https://localhost:8080/"
        },
        "id": "ryk9NSCjFt8r",
        "outputId": "3957038c-d703-4725-c768-79c80030bf35"
      },
      "execution_count": null,
      "outputs": [
        {
          "output_type": "stream",
          "name": "stdout",
          "text": [
            "Downloading capital-alphabets-28x28.zip to /content\n",
            " 90% 2.87G/3.17G [02:32<00:13, 25.0MB/s]"
          ]
        }
      ]
    },
    {
      "cell_type": "code",
      "source": [
        "#sets up the necessary frameworks and libraries for building a CNN for image classification\n",
        "import matplotlib.pyplot as plt\n",
        "%matplotlib inline\n",
        "import PIL\n",
        "import tensorflow as tf\n",
        "from tensorflow.keras import regularizers\n",
        "from tensorflow.keras.preprocessing.image import ImageDataGenerator\n",
        "from tensorflow.keras.callbacks import EarlyStopping\n",
        "from tensorflow.keras.models import Sequential\n",
        "from tensorflow.keras.layers import (\n",
        "    BatchNormalization, Conv2D, MaxPooling2D, Activation, Flatten, Dropout, Dense)\n",
        "from tensorflow.keras import backend as K\n",
        "\n",
        "import numpy as np\n"
      ],
      "metadata": {
        "id": "plh3OhF0F1or"
      },
      "execution_count": null,
      "outputs": []
    },
    {
      "cell_type": "code",
      "source": [
        "! mkdir train"
      ],
      "metadata": {
        "id": "Paq41UjVGWlp"
      },
      "execution_count": null,
      "outputs": []
    },
    {
      "cell_type": "code",
      "source": [
        "! unzip capital-alphabets-28x28.zip -d train"
      ],
      "metadata": {
        "id": "hlTKakVoGoDw"
      },
      "execution_count": null,
      "outputs": []
    },
    {
      "cell_type": "code",
      "source": [
        "def dict(number):\n",
        "  if number >= 0 and number  <= 25:\n",
        "    return chr(number+65)\n",
        "  return chr(number+71)\n"
      ],
      "metadata": {
        "id": "jd0iqfnVOgV1"
      },
      "execution_count": null,
      "outputs": []
    },
    {
      "cell_type": "code",
      "source": [
        "word_dict = {}"
      ],
      "metadata": {
        "id": "_G-xRvO9PCC6"
      },
      "execution_count": null,
      "outputs": []
    },
    {
      "cell_type": "code",
      "source": [
        "#Initialising dictionary to store uppercase and lowercase letters and make a dictionary with each letter mapped to a number\n",
        "for i in range(0, 52):\n",
        "  word_dict[i] = dict(i)\n",
        "\n"
      ],
      "metadata": {
        "id": "1ej0gmZJPC-H"
      },
      "execution_count": null,
      "outputs": []
    },
    {
      "cell_type": "code",
      "source": [
        "\n",
        "word_dict"
      ],
      "metadata": {
        "colab": {
          "base_uri": "https://localhost:8080/"
        },
        "id": "1bN9FsUXP9lJ",
        "outputId": "0d3fc106-315b-46d9-da44-f34817a8c604"
      },
      "execution_count": null,
      "outputs": [
        {
          "output_type": "execute_result",
          "data": {
            "text/plain": [
              "{0: 'A',\n",
              " 1: 'B',\n",
              " 2: 'C',\n",
              " 3: 'D',\n",
              " 4: 'E',\n",
              " 5: 'F',\n",
              " 6: 'G',\n",
              " 7: 'H',\n",
              " 8: 'I',\n",
              " 9: 'J',\n",
              " 10: 'K',\n",
              " 11: 'L',\n",
              " 12: 'M',\n",
              " 13: 'N',\n",
              " 14: 'O',\n",
              " 15: 'P',\n",
              " 16: 'Q',\n",
              " 17: 'R',\n",
              " 18: 'S',\n",
              " 19: 'T',\n",
              " 20: 'U',\n",
              " 21: 'V',\n",
              " 22: 'W',\n",
              " 23: 'X',\n",
              " 24: 'Y',\n",
              " 25: 'Z',\n",
              " 26: 'a',\n",
              " 27: 'b',\n",
              " 28: 'c',\n",
              " 29: 'd',\n",
              " 30: 'e',\n",
              " 31: 'f',\n",
              " 32: 'g',\n",
              " 33: 'h',\n",
              " 34: 'i',\n",
              " 35: 'j',\n",
              " 36: 'k',\n",
              " 37: 'l',\n",
              " 38: 'm',\n",
              " 39: 'n',\n",
              " 40: 'o',\n",
              " 41: 'p',\n",
              " 42: 'q',\n",
              " 43: 'r',\n",
              " 44: 's',\n",
              " 45: 't',\n",
              " 46: 'u',\n",
              " 47: 'v',\n",
              " 48: 'w',\n",
              " 49: 'x',\n",
              " 50: 'y',\n",
              " 51: 'z'}"
            ]
          },
          "metadata": {},
          "execution_count": 12
        }
      ]
    },
    {
      "cell_type": "code",
      "source": [
        "dict(0)"
      ],
      "metadata": {
        "colab": {
          "base_uri": "https://localhost:8080/",
          "height": 36
        },
        "id": "UMbc6ML5P_Bm",
        "outputId": "9710fc65-debb-428f-cb61-dcd938626db4"
      },
      "execution_count": null,
      "outputs": [
        {
          "output_type": "execute_result",
          "data": {
            "text/plain": [
              "'A'"
            ],
            "application/vnd.google.colaboratory.intrinsic+json": {
              "type": "string"
            }
          },
          "metadata": {},
          "execution_count": 13
        }
      ]
    },
    {
      "cell_type": "code",
      "source": [
        "model = tf.keras.models.Sequential([\n",
        "    #input shape is the desired size of the image 300x300 with 3 bytes color\n",
        "    # This is the first convolution\n",
        "    tf.keras.layers.Conv2D(16, (3,3), activation='relu', input_shape=(300, 300, 3)),\n",
        "    tf.keras.layers.MaxPooling2D(2, 2),\n",
        "    # The second convolution\n",
        "    tf.keras.layers.Conv2D(32, (3,3), activation='relu'),\n",
        "    tf.keras.layers.MaxPooling2D(2,2),\n",
        "    # The third convolution\n",
        "    tf.keras.layers.Conv2D(64, (3,3), activation='relu'),\n",
        "    tf.keras.layers.MaxPooling2D(2,2),\n",
        "    # The fourth convolution\n",
        "    tf.keras.layers.Conv2D(64, (3,3), activation='relu'),\n",
        "    tf.keras.layers.MaxPooling2D(2,2),\n",
        "    # The fifth convolution\n",
        "    tf.keras.layers.Conv2D(64, (3,3), activation='relu'),\n",
        "    tf.keras.layers.MaxPooling2D(2,2),\n",
        "    # Flatten the results to feed into a DNN\n",
        "    tf.keras.layers.Flatten(),\n",
        "    # 512 neuron hidden layer\n",
        "    tf.keras.layers.Dense(512, activation='relu'),\n",
        "    # 52 output neuron.\n",
        "    tf.keras.layers.Dense(52, activation='softmax')\n",
        "])"
      ],
      "metadata": {
        "id": "8q5xtaNLUNiF"
      },
      "execution_count": null,
      "outputs": []
    },
    {
      "cell_type": "code",
      "source": [
        "%cd train"
      ],
      "metadata": {
        "colab": {
          "base_uri": "https://localhost:8080/"
        },
        "id": "IltIhWp_Vl0N",
        "outputId": "763a1a20-0ce2-48b5-c1a4-cb4a793757a4"
      },
      "execution_count": null,
      "outputs": [
        {
          "output_type": "stream",
          "name": "stdout",
          "text": [
            "/content/train\n"
          ]
        }
      ]
    },
    {
      "cell_type": "code",
      "source": [
        "train_datagen = ImageDataGenerator(rescale=1./255)\n",
        "train = train_datagen.flow_from_directory(\n",
        "    directory = \"./datasetSmall/train\",\n",
        "    target_size=(300, 300))"
      ],
      "metadata": {
        "id": "abzPsuguWnnK",
        "colab": {
          "base_uri": "https://localhost:8080/"
        },
        "outputId": "20cf98b6-dc75-4d7c-9286-4cf63e19b586"
      },
      "execution_count": null,
      "outputs": [
        {
          "output_type": "stream",
          "name": "stdout",
          "text": [
            "Found 111713 images belonging to 26 classes.\n"
          ]
        }
      ]
    },
    {
      "cell_type": "code",
      "source": [
        "model.compile(loss='categorical_crossentropy',\n",
        "              optimizer='adam',\n",
        "              metrics=['accuracy'])"
      ],
      "metadata": {
        "id": "9jpkvD0KW_Ld"
      },
      "execution_count": null,
      "outputs": []
    },
    {
      "cell_type": "code",
      "source": [
        "model.summary()"
      ],
      "metadata": {
        "colab": {
          "base_uri": "https://localhost:8080/"
        },
        "id": "7bzzLS_wXP0A",
        "outputId": "b1c0fa09-408d-4415-ef0d-16de294bba15"
      },
      "execution_count": null,
      "outputs": [
        {
          "output_type": "stream",
          "name": "stdout",
          "text": [
            "Model: \"sequential_2\"\n",
            "_________________________________________________________________\n",
            " Layer (type)                Output Shape              Param #   \n",
            "=================================================================\n",
            " conv2d_9 (Conv2D)           (None, 298, 298, 16)      448       \n",
            "                                                                 \n",
            " max_pooling2d_9 (MaxPooling  (None, 149, 149, 16)     0         \n",
            " 2D)                                                             \n",
            "                                                                 \n",
            " conv2d_10 (Conv2D)          (None, 147, 147, 32)      4640      \n",
            "                                                                 \n",
            " max_pooling2d_10 (MaxPoolin  (None, 73, 73, 32)       0         \n",
            " g2D)                                                            \n",
            "                                                                 \n",
            " conv2d_11 (Conv2D)          (None, 71, 71, 64)        18496     \n",
            "                                                                 \n",
            " max_pooling2d_11 (MaxPoolin  (None, 35, 35, 64)       0         \n",
            " g2D)                                                            \n",
            "                                                                 \n",
            " conv2d_12 (Conv2D)          (None, 33, 33, 64)        36928     \n",
            "                                                                 \n",
            " max_pooling2d_12 (MaxPoolin  (None, 16, 16, 64)       0         \n",
            " g2D)                                                            \n",
            "                                                                 \n",
            " flatten_2 (Flatten)         (None, 16384)             0         \n",
            "                                                                 \n",
            " dense_6 (Dense)             (None, 256)               4194560   \n",
            "                                                                 \n",
            " dense_7 (Dense)             (None, 1024)              263168    \n",
            "                                                                 \n",
            " dense_8 (Dense)             (None, 26)                26650     \n",
            "                                                                 \n",
            "=================================================================\n",
            "Total params: 4,544,890\n",
            "Trainable params: 4,544,890\n",
            "Non-trainable params: 0\n",
            "_________________________________________________________________\n"
          ]
        }
      ]
    },
    {
      "cell_type": "code",
      "source": [
        "val = train_datagen.flow_from_directory(\n",
        "    directory = \"./datasetSmall/validation\",\n",
        "    target_size=(300, 300))"
      ],
      "metadata": {
        "colab": {
          "base_uri": "https://localhost:8080/"
        },
        "id": "Ci7hyhj9XT7p",
        "outputId": "5907afcc-3ea7-437d-dc46-47492f5b9556"
      },
      "execution_count": null,
      "outputs": [
        {
          "output_type": "stream",
          "name": "stdout",
          "text": [
            "Found 37374 images belonging to 26 classes.\n"
          ]
        }
      ]
    },
    {
      "cell_type": "code",
      "source": [
        "from tqdm import tqdm\n",
        "# extracting values from val test generator\n",
        "val.reset()\n",
        "X_val,y_val = next(val)\n",
        "for i in tqdm(range(int(len(val)/32)-1)): #1st batch is already fetched before the for loop.\n",
        "    img, label = next(val)\n",
        "    X_val = np.append(X_val, img, axis=0 )\n",
        "    y_val = np.append(y_val, label, axis=0)\n",
        "print(X_val.shape, y_val.shape)"
      ],
      "metadata": {
        "colab": {
          "base_uri": "https://localhost:8080/"
        },
        "id": "JZP0AmqDX-iP",
        "outputId": "096a5c27-35cd-44ec-f07e-b15cd0d78d50"
      },
      "execution_count": null,
      "outputs": [
        {
          "output_type": "stream",
          "name": "stderr",
          "text": [
            "100%|██████████| 35/35 [00:17<00:00,  2.04it/s]"
          ]
        },
        {
          "output_type": "stream",
          "name": "stdout",
          "text": [
            "(1152, 300, 300, 3) (1152, 26)\n"
          ]
        },
        {
          "output_type": "stream",
          "name": "stderr",
          "text": [
            "\n"
          ]
        }
      ]
    },
    {
      "cell_type": "code",
      "source": [
        "checkpointer = EarlyStopping(monitor = 'val_accuracy', verbose = 1, restore_best_weights=True,mode=\"max\",patience = 15)"
      ],
      "metadata": {
        "id": "6_3UeagEYJbp"
      },
      "execution_count": null,
      "outputs": []
    },
    {
      "cell_type": "code",
      "source": [
        "history = model.fit(\n",
        "            train ,\n",
        "            steps_per_epoch =len(train)//32, #batch size is 32\n",
        "            epochs=30,\n",
        "            verbose=1,\n",
        "            validation_data=(X_val,y_val),\n",
        "            callbacks = [checkpointer])"
      ],
      "metadata": {
        "colab": {
          "base_uri": "https://localhost:8080/"
        },
        "id": "I6D5t6DkYUAj",
        "outputId": "d769f50b-6c9a-430a-9b2f-3f8ab80c53c6"
      },
      "execution_count": null,
      "outputs": [
        {
          "output_type": "stream",
          "name": "stdout",
          "text": [
            "Epoch 1/30\n",
            "109/109 [==============================] - 21s 156ms/step - loss: 1.2316 - accuracy: 0.6660 - val_loss: 0.7102 - val_accuracy: 0.7899\n",
            "Epoch 2/30\n",
            "109/109 [==============================] - 15s 138ms/step - loss: 0.6445 - accuracy: 0.8157 - val_loss: 0.5172 - val_accuracy: 0.8516\n",
            "Epoch 3/30\n",
            "109/109 [==============================] - 14s 132ms/step - loss: 0.5322 - accuracy: 0.8432 - val_loss: 0.5149 - val_accuracy: 0.8498\n",
            "Epoch 4/30\n",
            "109/109 [==============================] - 16s 149ms/step - loss: 0.4643 - accuracy: 0.8615 - val_loss: 0.4897 - val_accuracy: 0.8550\n",
            "Epoch 5/30\n",
            "109/109 [==============================] - 15s 137ms/step - loss: 0.4196 - accuracy: 0.8790 - val_loss: 0.4385 - val_accuracy: 0.8707\n",
            "Epoch 6/30\n",
            "109/109 [==============================] - 15s 140ms/step - loss: 0.4154 - accuracy: 0.8782 - val_loss: 0.3973 - val_accuracy: 0.8845\n",
            "Epoch 7/30\n",
            "109/109 [==============================] - 14s 132ms/step - loss: 0.4436 - accuracy: 0.8730 - val_loss: 0.3766 - val_accuracy: 0.8750\n",
            "Epoch 8/30\n",
            "109/109 [==============================] - 14s 130ms/step - loss: 0.3923 - accuracy: 0.8787 - val_loss: 0.4221 - val_accuracy: 0.8733\n",
            "Epoch 9/30\n",
            "109/109 [==============================] - 15s 134ms/step - loss: 0.3561 - accuracy: 0.8876 - val_loss: 0.4015 - val_accuracy: 0.8733\n",
            "Epoch 10/30\n",
            "109/109 [==============================] - 15s 135ms/step - loss: 0.3827 - accuracy: 0.8853 - val_loss: 0.3333 - val_accuracy: 0.8941\n",
            "Epoch 11/30\n",
            "109/109 [==============================] - 14s 129ms/step - loss: 0.3634 - accuracy: 0.8968 - val_loss: 0.3895 - val_accuracy: 0.8906\n",
            "Epoch 12/30\n",
            "109/109 [==============================] - 15s 135ms/step - loss: 0.3440 - accuracy: 0.8965 - val_loss: 0.3674 - val_accuracy: 0.8941\n",
            "Epoch 13/30\n",
            "109/109 [==============================] - 15s 136ms/step - loss: 0.3341 - accuracy: 0.9008 - val_loss: 0.3559 - val_accuracy: 0.8854\n",
            "Epoch 14/30\n",
            "109/109 [==============================] - 14s 130ms/step - loss: 0.3337 - accuracy: 0.9060 - val_loss: 0.3552 - val_accuracy: 0.8924\n",
            "Epoch 15/30\n",
            "109/109 [==============================] - 14s 125ms/step - loss: 0.3484 - accuracy: 0.8974 - val_loss: 0.3433 - val_accuracy: 0.8958\n",
            "Epoch 16/30\n",
            "109/109 [==============================] - 15s 136ms/step - loss: 0.3388 - accuracy: 0.8962 - val_loss: 0.3148 - val_accuracy: 0.9002\n",
            "Epoch 17/30\n",
            "109/109 [==============================] - 14s 132ms/step - loss: 0.3344 - accuracy: 0.8968 - val_loss: 0.3194 - val_accuracy: 0.9054\n",
            "Epoch 18/30\n",
            "109/109 [==============================] - 14s 130ms/step - loss: 0.3217 - accuracy: 0.9065 - val_loss: 0.3407 - val_accuracy: 0.8976\n",
            "Epoch 19/30\n",
            "109/109 [==============================] - 15s 135ms/step - loss: 0.3098 - accuracy: 0.9083 - val_loss: 0.3421 - val_accuracy: 0.8993\n",
            "Epoch 20/30\n",
            "109/109 [==============================] - 14s 127ms/step - loss: 0.3145 - accuracy: 0.9094 - val_loss: 0.3310 - val_accuracy: 0.9028\n",
            "Epoch 21/30\n",
            "109/109 [==============================] - 14s 131ms/step - loss: 0.3185 - accuracy: 0.9080 - val_loss: 0.3299 - val_accuracy: 0.8976\n",
            "Epoch 22/30\n",
            "109/109 [==============================] - 14s 131ms/step - loss: 0.3034 - accuracy: 0.9117 - val_loss: 0.3149 - val_accuracy: 0.9080\n",
            "Epoch 23/30\n",
            "109/109 [==============================] - 14s 132ms/step - loss: 0.2998 - accuracy: 0.9108 - val_loss: 0.3567 - val_accuracy: 0.8924\n",
            "Epoch 24/30\n",
            "109/109 [==============================] - 14s 127ms/step - loss: 0.3011 - accuracy: 0.9042 - val_loss: 0.3047 - val_accuracy: 0.9080\n",
            "Epoch 25/30\n",
            "109/109 [==============================] - 14s 132ms/step - loss: 0.2889 - accuracy: 0.9071 - val_loss: 0.3028 - val_accuracy: 0.9089\n",
            "Epoch 26/30\n",
            "109/109 [==============================] - 15s 137ms/step - loss: 0.3013 - accuracy: 0.9088 - val_loss: 0.3030 - val_accuracy: 0.9036\n",
            "Epoch 27/30\n",
            "109/109 [==============================] - 15s 135ms/step - loss: 0.3095 - accuracy: 0.9054 - val_loss: 0.3111 - val_accuracy: 0.9071\n",
            "Epoch 28/30\n",
            "109/109 [==============================] - 14s 131ms/step - loss: 0.2529 - accuracy: 0.9232 - val_loss: 0.3016 - val_accuracy: 0.9089\n",
            "Epoch 29/30\n",
            "109/109 [==============================] - 14s 127ms/step - loss: 0.2791 - accuracy: 0.9151 - val_loss: 0.2912 - val_accuracy: 0.9115\n",
            "Epoch 30/30\n",
            "109/109 [==============================] - 15s 137ms/step - loss: 0.3020 - accuracy: 0.9154 - val_loss: 0.3328 - val_accuracy: 0.9019\n"
          ]
        }
      ]
    },
    {
      "cell_type": "code",
      "source": [
        "training_loss = history.history['loss']\n",
        "val_loss = history.history['val_loss']\n",
        "plt.rcParams['figure.figsize'] = [10, 5]\n",
        "plt.style.use(['default'])\n",
        "# Create count of the number of epochs\n",
        "epoch_count = range(1, len(training_loss) + 1)\n",
        "\n",
        "# Visualize loss history\n",
        "plt.plot(epoch_count, training_loss, 'r--')\n",
        "plt.plot(epoch_count, val_loss, 'b-')\n",
        "plt.legend(['Training Loss', 'Val Loss'])\n",
        "plt.xlabel('Epoch')\n",
        "plt.ylabel('Loss')\n",
        "plt.show()"
      ],
      "metadata": {
        "colab": {
          "base_uri": "https://localhost:8080/",
          "height": 235
        },
        "id": "-JyGOaPQYere",
        "outputId": "f633fa45-3c2f-492b-d861-77b6201e7334"
      },
      "execution_count": null,
      "outputs": [
        {
          "output_type": "error",
          "ename": "NameError",
          "evalue": "ignored",
          "traceback": [
            "\u001b[0;31m---------------------------------------------------------------------------\u001b[0m",
            "\u001b[0;31mNameError\u001b[0m                                 Traceback (most recent call last)",
            "\u001b[0;32m<ipython-input-2-ac1b04a13b9f>\u001b[0m in \u001b[0;36m<cell line: 1>\u001b[0;34m()\u001b[0m\n\u001b[0;32m----> 1\u001b[0;31m \u001b[0mtraining_loss\u001b[0m \u001b[0;34m=\u001b[0m \u001b[0mhistory\u001b[0m\u001b[0;34m.\u001b[0m\u001b[0mhistory\u001b[0m\u001b[0;34m[\u001b[0m\u001b[0;34m'loss'\u001b[0m\u001b[0;34m]\u001b[0m\u001b[0;34m\u001b[0m\u001b[0;34m\u001b[0m\u001b[0m\n\u001b[0m\u001b[1;32m      2\u001b[0m \u001b[0mval_loss\u001b[0m \u001b[0;34m=\u001b[0m \u001b[0mhistory\u001b[0m\u001b[0;34m.\u001b[0m\u001b[0mhistory\u001b[0m\u001b[0;34m[\u001b[0m\u001b[0;34m'val_loss'\u001b[0m\u001b[0;34m]\u001b[0m\u001b[0;34m\u001b[0m\u001b[0;34m\u001b[0m\u001b[0m\n\u001b[1;32m      3\u001b[0m \u001b[0mplt\u001b[0m\u001b[0;34m.\u001b[0m\u001b[0mrcParams\u001b[0m\u001b[0;34m[\u001b[0m\u001b[0;34m'figure.figsize'\u001b[0m\u001b[0;34m]\u001b[0m \u001b[0;34m=\u001b[0m \u001b[0;34m[\u001b[0m\u001b[0;36m10\u001b[0m\u001b[0;34m,\u001b[0m \u001b[0;36m5\u001b[0m\u001b[0;34m]\u001b[0m\u001b[0;34m\u001b[0m\u001b[0;34m\u001b[0m\u001b[0m\n\u001b[1;32m      4\u001b[0m \u001b[0mplt\u001b[0m\u001b[0;34m.\u001b[0m\u001b[0mstyle\u001b[0m\u001b[0;34m.\u001b[0m\u001b[0muse\u001b[0m\u001b[0;34m(\u001b[0m\u001b[0;34m[\u001b[0m\u001b[0;34m'default'\u001b[0m\u001b[0;34m]\u001b[0m\u001b[0;34m)\u001b[0m\u001b[0;34m\u001b[0m\u001b[0;34m\u001b[0m\u001b[0m\n\u001b[1;32m      5\u001b[0m \u001b[0;31m# Create count of the number of epochs\u001b[0m\u001b[0;34m\u001b[0m\u001b[0;34m\u001b[0m\u001b[0m\n",
            "\u001b[0;31mNameError\u001b[0m: name 'history' is not defined"
          ]
        }
      ]
    },
    {
      "cell_type": "code",
      "source": [
        "training_accuracy = history.history['accuracy']\n",
        "val_accuracy = history.history['val_accuracy']\n",
        "\n",
        "# Create count of the number of epochs\n",
        "epoch_count = range(1, len(training_accuracy) + 1)\n",
        "\n",
        "# Visualize loss history\n",
        "\n",
        "plt.plot(epoch_count, training_accuracy, 'r--')\n",
        "plt.plot(epoch_count, val_accuracy, 'b-')\n",
        "plt.legend(['Training Accuracy', 'Val Accuracy'])\n",
        "plt.xlabel('Epoch')\n",
        "plt.ylabel('Accuracy')\n",
        "plt.ylim(top = 1)\n",
        "plt.show()"
      ],
      "metadata": {
        "colab": {
          "base_uri": "https://localhost:8080/",
          "height": 455
        },
        "id": "6xOKQfZV3QqP",
        "outputId": "e286c72e-b345-4524-b809-b201913ddd58"
      },
      "execution_count": null,
      "outputs": [
        {
          "output_type": "display_data",
          "data": {
            "text/plain": [
              "<Figure size 640x480 with 1 Axes>"
            ],
            "image/png": "[encoded data removed]"
          },
          "metadata": {}
        }
      ]
    },
    {
      "cell_type": "code",
      "source": [
        "\n",
        "# predict = model.predict(x_test)\n",
        "# print(word_dict[np.argmax(predict[4])])\n",
        "# plt.figure()\n",
        "# plt.imshow(x_test[4])\n",
        "# plt.grid(False)\n",
        "# plt.show()\n"
      ],
      "metadata": {
        "colab": {
          "base_uri": "https://localhost:8080/",
          "height": 470
        },
        "id": "SvLTng6Ke8bX",
        "outputId": "55c9d373-140f-43ba-91aa-7837082a2002"
      },
      "execution_count": null,
      "outputs": [
        {
          "output_type": "stream",
          "name": "stdout",
          "text": [
            "1/1 [==============================] - 0s 54ms/step\n",
            "E\n"
          ]
        },
        {
          "output_type": "display_data",
          "data": {
            "text/plain": [
              "<Figure size 640x480 with 1 Axes>"
            ],
            "image/png": "[encoded data removed]"
          },
          "metadata": {}
        }
      ]
    },
    {
      "cell_type": "code",
      "source": [
        "test = train_datagen.flow_from_directory(\n",
        "    directory = \"./datasetSmall/test\",\n",
        "    target_size=(300, 300))"
      ],
      "metadata": {
        "colab": {
          "base_uri": "https://localhost:8080/"
        },
        "id": "iruX9xSNkMWk",
        "outputId": "03e0cc6d-ff69-4cba-f192-8e00edaa6e6b"
      },
      "execution_count": null,
      "outputs": [
        {
          "output_type": "stream",
          "name": "stdout",
          "text": [
            "Found 37358 images belonging to 26 classes.\n"
          ]
        }
      ]
    },
    {
      "cell_type": "code",
      "source": [
        "print(f\"Test accuracy = {model.evaluate(test ,batch_size=32,steps=len(test)//32)[1]*100}%\")"
      ],
      "metadata": {
        "colab": {
          "base_uri": "https://localhost:8080/"
        },
        "id": "LEtQJWqokTIC",
        "outputId": "5d40da03-666b-43a6-b10b-195d823a8b0e"
      },
      "execution_count": null,
      "outputs": [
        {
          "output_type": "stream",
          "name": "stdout",
          "text": [
            "36/36 [==============================] - 4s 119ms/step - loss: 0.2847 - accuracy: 0.9167\n",
            "Test accuracy = 91.66666865348816%\n"
          ]
        }
      ]
    },
    {
      "cell_type": "code",
      "source": [
        "model.save('hcr_model.h5')"
      ],
      "metadata": {
        "id": "SLnysSlC31Cu"
      },
      "execution_count": null,
      "outputs": []
    },
    {
      "cell_type": "code",
      "source": [],
      "metadata": {
        "id": "iwhW34g14uTc"
      },
      "execution_count": null,
      "outputs": []
    }
  ]
}